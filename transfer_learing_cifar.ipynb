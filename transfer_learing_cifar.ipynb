{
  "nbformat": 4,
  "nbformat_minor": 0,
  "metadata": {
    "colab": {
      "name": "transfer_learing_cifar.ipynb",
      "provenance": [],
      "collapsed_sections": []
    },
    "kernelspec": {
      "name": "python3",
      "display_name": "Python 3"
    },
    "widgets": {
      "application/vnd.jupyter.widget-state+json": {
        "3c93acd6a08e4156a8dcdf4d95f2cbee": {
          "model_module": "@jupyter-widgets/controls",
          "model_name": "HBoxModel",
          "state": {
            "_view_name": "HBoxView",
            "_dom_classes": [],
            "_model_name": "HBoxModel",
            "_view_module": "@jupyter-widgets/controls",
            "_model_module_version": "1.5.0",
            "_view_count": null,
            "_view_module_version": "1.5.0",
            "box_style": "",
            "layout": "IPY_MODEL_2042837f15254bf39c01d940ea1a6959",
            "_model_module": "@jupyter-widgets/controls",
            "children": [
              "IPY_MODEL_6e37d96b52ac4bcbbb1f9f2a3f9fd97f",
              "IPY_MODEL_50cc30463ec740fcaa1cd3899fc41514"
            ]
          }
        },
        "2042837f15254bf39c01d940ea1a6959": {
          "model_module": "@jupyter-widgets/base",
          "model_name": "LayoutModel",
          "state": {
            "_view_name": "LayoutView",
            "grid_template_rows": null,
            "right": null,
            "justify_content": null,
            "_view_module": "@jupyter-widgets/base",
            "overflow": null,
            "_model_module_version": "1.2.0",
            "_view_count": null,
            "flex_flow": null,
            "width": null,
            "min_width": null,
            "border": null,
            "align_items": null,
            "bottom": null,
            "_model_module": "@jupyter-widgets/base",
            "top": null,
            "grid_column": null,
            "overflow_y": null,
            "overflow_x": null,
            "grid_auto_flow": null,
            "grid_area": null,
            "grid_template_columns": null,
            "flex": null,
            "_model_name": "LayoutModel",
            "justify_items": null,
            "grid_row": null,
            "max_height": null,
            "align_content": null,
            "visibility": null,
            "align_self": null,
            "height": null,
            "min_height": null,
            "padding": null,
            "grid_auto_rows": null,
            "grid_gap": null,
            "max_width": null,
            "order": null,
            "_view_module_version": "1.2.0",
            "grid_template_areas": null,
            "object_position": null,
            "object_fit": null,
            "grid_auto_columns": null,
            "margin": null,
            "display": null,
            "left": null
          }
        },
        "6e37d96b52ac4bcbbb1f9f2a3f9fd97f": {
          "model_module": "@jupyter-widgets/controls",
          "model_name": "FloatProgressModel",
          "state": {
            "_view_name": "ProgressView",
            "style": "IPY_MODEL_4f66d73dfd2d4873816a2b2e94f749bb",
            "_dom_classes": [],
            "description": "100%",
            "_model_name": "FloatProgressModel",
            "bar_style": "success",
            "max": 46827520,
            "_view_module": "@jupyter-widgets/controls",
            "_model_module_version": "1.5.0",
            "value": 46827520,
            "_view_count": null,
            "_view_module_version": "1.5.0",
            "orientation": "horizontal",
            "min": 0,
            "description_tooltip": null,
            "_model_module": "@jupyter-widgets/controls",
            "layout": "IPY_MODEL_4977336402084214ab0c9b0e9d3eb132"
          }
        },
        "50cc30463ec740fcaa1cd3899fc41514": {
          "model_module": "@jupyter-widgets/controls",
          "model_name": "HTMLModel",
          "state": {
            "_view_name": "HTMLView",
            "style": "IPY_MODEL_008d3c4978cd4606b08ace40c89e735a",
            "_dom_classes": [],
            "description": "",
            "_model_name": "HTMLModel",
            "placeholder": "​",
            "_view_module": "@jupyter-widgets/controls",
            "_model_module_version": "1.5.0",
            "value": " 44.7M/44.7M [22:38&lt;00:00, 34.5kB/s]",
            "_view_count": null,
            "_view_module_version": "1.5.0",
            "description_tooltip": null,
            "_model_module": "@jupyter-widgets/controls",
            "layout": "IPY_MODEL_0e97dab234e342ccbafe4834f7399e2d"
          }
        },
        "4f66d73dfd2d4873816a2b2e94f749bb": {
          "model_module": "@jupyter-widgets/controls",
          "model_name": "ProgressStyleModel",
          "state": {
            "_view_name": "StyleView",
            "_model_name": "ProgressStyleModel",
            "description_width": "initial",
            "_view_module": "@jupyter-widgets/base",
            "_model_module_version": "1.5.0",
            "_view_count": null,
            "_view_module_version": "1.2.0",
            "bar_color": null,
            "_model_module": "@jupyter-widgets/controls"
          }
        },
        "4977336402084214ab0c9b0e9d3eb132": {
          "model_module": "@jupyter-widgets/base",
          "model_name": "LayoutModel",
          "state": {
            "_view_name": "LayoutView",
            "grid_template_rows": null,
            "right": null,
            "justify_content": null,
            "_view_module": "@jupyter-widgets/base",
            "overflow": null,
            "_model_module_version": "1.2.0",
            "_view_count": null,
            "flex_flow": null,
            "width": null,
            "min_width": null,
            "border": null,
            "align_items": null,
            "bottom": null,
            "_model_module": "@jupyter-widgets/base",
            "top": null,
            "grid_column": null,
            "overflow_y": null,
            "overflow_x": null,
            "grid_auto_flow": null,
            "grid_area": null,
            "grid_template_columns": null,
            "flex": null,
            "_model_name": "LayoutModel",
            "justify_items": null,
            "grid_row": null,
            "max_height": null,
            "align_content": null,
            "visibility": null,
            "align_self": null,
            "height": null,
            "min_height": null,
            "padding": null,
            "grid_auto_rows": null,
            "grid_gap": null,
            "max_width": null,
            "order": null,
            "_view_module_version": "1.2.0",
            "grid_template_areas": null,
            "object_position": null,
            "object_fit": null,
            "grid_auto_columns": null,
            "margin": null,
            "display": null,
            "left": null
          }
        },
        "008d3c4978cd4606b08ace40c89e735a": {
          "model_module": "@jupyter-widgets/controls",
          "model_name": "DescriptionStyleModel",
          "state": {
            "_view_name": "StyleView",
            "_model_name": "DescriptionStyleModel",
            "description_width": "",
            "_view_module": "@jupyter-widgets/base",
            "_model_module_version": "1.5.0",
            "_view_count": null,
            "_view_module_version": "1.2.0",
            "_model_module": "@jupyter-widgets/controls"
          }
        },
        "0e97dab234e342ccbafe4834f7399e2d": {
          "model_module": "@jupyter-widgets/base",
          "model_name": "LayoutModel",
          "state": {
            "_view_name": "LayoutView",
            "grid_template_rows": null,
            "right": null,
            "justify_content": null,
            "_view_module": "@jupyter-widgets/base",
            "overflow": null,
            "_model_module_version": "1.2.0",
            "_view_count": null,
            "flex_flow": null,
            "width": null,
            "min_width": null,
            "border": null,
            "align_items": null,
            "bottom": null,
            "_model_module": "@jupyter-widgets/base",
            "top": null,
            "grid_column": null,
            "overflow_y": null,
            "overflow_x": null,
            "grid_auto_flow": null,
            "grid_area": null,
            "grid_template_columns": null,
            "flex": null,
            "_model_name": "LayoutModel",
            "justify_items": null,
            "grid_row": null,
            "max_height": null,
            "align_content": null,
            "visibility": null,
            "align_self": null,
            "height": null,
            "min_height": null,
            "padding": null,
            "grid_auto_rows": null,
            "grid_gap": null,
            "max_width": null,
            "order": null,
            "_view_module_version": "1.2.0",
            "grid_template_areas": null,
            "object_position": null,
            "object_fit": null,
            "grid_auto_columns": null,
            "margin": null,
            "display": null,
            "left": null
          }
        }
      }
    },
    "accelerator": "GPU"
  },
  "cells": [
    {
      "cell_type": "code",
      "metadata": {
        "id": "zXTcUqHVqkw-"
      },
      "source": [
        "%matplotlib inline\n",
        "from matplotlib import pyplot as plt\n",
        "import numpy as np\n",
        "import collections\n",
        "\n",
        "import torch\n",
        "import torch.nn as nn\n",
        "import torch.nn.functional as F\n",
        "import torch.optim as optim\n",
        "from torch.optim import lr_scheduler\n",
        "import torchvision\n",
        "from torchvision import datasets, transforms, models\n",
        "import os\n",
        "import time\n",
        "import copy\n",
        "\n",
        "import random\n",
        "from torch.utils import data"
      ],
      "execution_count": null,
      "outputs": []
    },
    {
      "cell_type": "code",
      "metadata": {
        "id": "iBntliT9q-B0"
      },
      "source": [
        "class_names = ['airplane','automobile','bird','cat','deer',\n",
        "               'dog','frog','horse','ship','truck']"
      ],
      "execution_count": null,
      "outputs": []
    },
    {
      "cell_type": "code",
      "metadata": {
        "colab": {
          "base_uri": "https://localhost:8080/"
        },
        "id": "cX1_YNkh7vpi",
        "outputId": "ca33fcce-b21c-4707-d59b-b191ad1cb861"
      },
      "source": [
        "\n",
        "data_path = r\"/content/drive/My Drive/cifar10/data\"\n",
        "\n",
        "cifar10 = datasets.CIFAR10(\n",
        "    data_path, train=True, download=True,\n",
        "    transform=transforms.Compose([\n",
        "        transforms.RandomResizedCrop(224),\n",
        "        transforms.RandomHorizontalFlip(),\n",
        "        transforms.ToTensor(),\n",
        "        transforms.Normalize([0.485, 0.456, 0.406],[0.229, 0.224, 0.225]) # mean and std from resnet18\n",
        "    ]))\n",
        "\n",
        "cifar10_val = datasets.CIFAR10(\n",
        "    data_path, train=False, download=True,\n",
        "    transform=transforms.Compose([\n",
        "        transforms.Resize(256),\n",
        "        transforms.CenterCrop(224),\n",
        "        transforms.ToTensor(),\n",
        "        transforms.Normalize([0.485, 0.456, 0.406],[0.229, 0.224, 0.225])\n",
        "    ]))\n"
      ],
      "execution_count": null,
      "outputs": [
        {
          "output_type": "stream",
          "text": [
            "Files already downloaded and verified\n",
            "Files already downloaded and verified\n"
          ],
          "name": "stdout"
        }
      ]
    },
    {
      "cell_type": "code",
      "metadata": {
        "id": "YqAhn0SqkXFu"
      },
      "source": [
        "class_names = ['airplane', 'bird']\n",
        "label_map = {0: 0, 2: 1}\n",
        "\n",
        "cifar2_train = [(img, label_map[label])\n",
        "          for img, label in cifar10\n",
        "          if label in [0, 2]]\n",
        "\n",
        "cifar2_val = [(img, label_map[label])\n",
        "              for img, label in cifar10_val\n",
        "              if label in [0, 2]]\n",
        "              \n",
        "nt = len(cifar2_train) \n",
        "nv = len(cifar2_val)\n",
        "n_train = int(400)  \n",
        "n_val = int(100)\n",
        "idxT = list(range(nt)) \n",
        "idxV = list(range(nv))  \n",
        "random.shuffle(idxT)  \n",
        "random.shuffle(idxV)\n",
        "\n",
        "train_idx = idxT[:n_train]\n",
        "val_idx = idxV[:n_val]"
      ],
      "execution_count": null,
      "outputs": []
    },
    {
      "cell_type": "code",
      "metadata": {
        "id": "2OpbXqdliaf5",
        "colab": {
          "base_uri": "https://localhost:8080/"
        },
        "outputId": "428a40ea-7732-40c8-eb05-0a5dd3e30e14"
      },
      "source": [
        "image_datasets_raw = {'train': cifar2_train, 'val': cifar2_val}\n",
        "image_datasets = {x: data.Subset(image_datasets_raw[x], train_idx if x == 'train' else val_idx) for x in image_datasets_raw }\n",
        "\n",
        "\n",
        "dataloaders = {x: torch.utils.data.DataLoader(image_datasets[x], batch_size=4, shuffle=True, num_workers=2) for x in ['train', 'val']}\n",
        "\n",
        "dataset_sizes = {x: len(image_datasets[x]) for x in ['train', 'val']}\n",
        "\n",
        "device = (torch.device(\"cuda\") if torch.cuda.is_available() else torch.device(\"cpu\"))\n",
        "print(f\"Training on device {device}.\")\n",
        "use_cuda = torch.cuda.is_available()"
      ],
      "execution_count": null,
      "outputs": [
        {
          "output_type": "stream",
          "text": [
            "Training on device cuda.\n"
          ],
          "name": "stdout"
        }
      ]
    },
    {
      "cell_type": "code",
      "metadata": {
        "colab": {
          "base_uri": "https://localhost:8080/"
        },
        "id": "LhpCqL_bx8tu",
        "outputId": "b0a6ae33-4f67-45fa-e679-bdaffb45e767"
      },
      "source": [
        "image_datasets['train'], image_datasets['val']"
      ],
      "execution_count": null,
      "outputs": [
        {
          "output_type": "execute_result",
          "data": {
            "text/plain": [
              "(<torch.utils.data.dataset.Subset at 0x7ff594985da0>,\n",
              " <torch.utils.data.dataset.Subset at 0x7ff594985dd8>)"
            ]
          },
          "metadata": {
            "tags": []
          },
          "execution_count": 6
        }
      ]
    },
    {
      "cell_type": "code",
      "metadata": {
        "id": "PjulxZRrffLf"
      },
      "source": [
        "def train_model(model, loss_fn, optimizer, scheduler, num_epochs=25):\n",
        "    since = time.time()\n",
        "\n",
        "    best_model_wts = copy.deepcopy(model.state_dict())\n",
        "    best_acc = 0.0\n",
        "\n",
        "    for epoch in range(num_epochs):\n",
        "        print('Epoch {}/{}'.format(epoch, num_epochs - 1))\n",
        "        print('-' * 10)\n",
        "\n",
        "        for phase in ['train', 'val']:\n",
        "            if phase == 'train':\n",
        "                model.train() \n",
        "            else:\n",
        "                model.eval()  \n",
        "\n",
        "            running_loss = 0.0\n",
        "            running_corrects = 0\n",
        "\n",
        "            for inputs, labels in dataloaders[phase]:\n",
        "                inputs = inputs.to(device)\n",
        "                labels = labels.to(device)\n",
        "\n",
        "                optimizer.zero_grad()\n",
        "\n",
        "               #forward pass\n",
        "                with torch.set_grad_enabled(phase == 'train'):\n",
        "                    outputs = model(inputs)\n",
        "                    _, preds = torch.max(outputs, 1)\n",
        "                    loss = loss_fn(outputs, labels)\n",
        "\n",
        "                    # backwards pass\n",
        "                    if phase == 'train':\n",
        "                        loss.backward()\n",
        "                        optimizer.step()\n",
        "\n",
        "                #stats\n",
        "                running_loss += loss.item() * inputs.size(0)\n",
        "                running_corrects += torch.sum(preds == labels.data)\n",
        "\n",
        "            if phase == 'train':\n",
        "                scheduler.step()\n",
        "\n",
        "            epoch_loss = running_loss / dataset_sizes[phase]\n",
        "            epoch_acc = running_corrects.double() / dataset_sizes[phase]\n",
        "\n",
        "            print('{} Loss: {:.4f} Acc: {:.4f}'.format(\n",
        "                phase, epoch_loss, epoch_acc))\n",
        "\n",
        "            # deep copy the model\n",
        "            if phase == 'val' and epoch_acc > best_acc:\n",
        "                best_acc = epoch_acc\n",
        "                best_model_wts = copy.deepcopy(model.state_dict())\n",
        "\n",
        "        print('\\n')\n",
        "\n",
        "    time_elapsed = time.time() - since\n",
        "    print('Training complete in {:.0f}m {:.0f}s'.format(\n",
        "        time_elapsed // 60, time_elapsed % 60))\n",
        "    print('Best val Acc: {:4f}'.format(best_acc))\n",
        "\n",
        "    # load weights of best model\n",
        "    model.load_state_dict(best_model_wts)\n",
        "    return model"
      ],
      "execution_count": null,
      "outputs": []
    },
    {
      "cell_type": "code",
      "metadata": {
        "id": "2dO_Zlwtf4kY",
        "colab": {
          "base_uri": "https://localhost:8080/",
          "height": 84,
          "referenced_widgets": [
            "3c93acd6a08e4156a8dcdf4d95f2cbee",
            "2042837f15254bf39c01d940ea1a6959",
            "6e37d96b52ac4bcbbb1f9f2a3f9fd97f",
            "50cc30463ec740fcaa1cd3899fc41514",
            "4f66d73dfd2d4873816a2b2e94f749bb",
            "4977336402084214ab0c9b0e9d3eb132",
            "008d3c4978cd4606b08ace40c89e735a",
            "0e97dab234e342ccbafe4834f7399e2d"
          ]
        },
        "outputId": "bf360230-6d0c-4107-a6eb-31bacdae1e6c"
      },
      "source": [
        "model_all_params_opt = models.resnet18(pretrained=True)\n",
        "num_ftrs = model_all_params_opt.fc.in_features #number of outputs of linear layer\n",
        "model_all_params_opt.fc = nn.Linear(num_ftrs, len(class_names)) # sets last layer of model\n",
        "\n",
        "model_all_params_opt = model_all_params_opt.to(device) # sends model to device\n",
        "\n",
        "loss_fn = nn.CrossEntropyLoss()\n",
        "\n",
        "# optimizing on all parameters\n",
        "optimizer = optim.SGD(model_all_params_opt.parameters(), lr=0.001, momentum=0.9)\n",
        "#decay lr by a factor of gamme each 7 steps(epochs)\n",
        "scheduler = lr_scheduler.StepLR(optimizer, step_size=7, gamma=0.1)"
      ],
      "execution_count": null,
      "outputs": [
        {
          "output_type": "stream",
          "text": [
            "Downloading: \"https://download.pytorch.org/models/resnet18-5c106cde.pth\" to /root/.cache/torch/hub/checkpoints/resnet18-5c106cde.pth\n"
          ],
          "name": "stderr"
        },
        {
          "output_type": "display_data",
          "data": {
            "application/vnd.jupyter.widget-view+json": {
              "model_id": "3c93acd6a08e4156a8dcdf4d95f2cbee",
              "version_minor": 0,
              "version_major": 2
            },
            "text/plain": [
              "HBox(children=(FloatProgress(value=0.0, max=46827520.0), HTML(value='')))"
            ]
          },
          "metadata": {
            "tags": []
          }
        },
        {
          "output_type": "stream",
          "text": [
            "\n"
          ],
          "name": "stdout"
        }
      ]
    },
    {
      "cell_type": "code",
      "metadata": {
        "colab": {
          "base_uri": "https://localhost:8080/"
        },
        "id": "X_gAQwbOf8X0",
        "outputId": "36a776e2-8ba5-4318-dd46-30085e3334a0"
      },
      "source": [
        "model_all_params_opt = train_model(model = model_all_params_opt, loss_fn = loss_fn, optimizer = optimizer, scheduler = scheduler, num_epochs=25)"
      ],
      "execution_count": null,
      "outputs": [
        {
          "output_type": "stream",
          "text": [
            "Epoch 0/24\n",
            "----------\n",
            "train Loss: 0.6361 Acc: 0.6850\n",
            "val Loss: 0.7812 Acc: 0.6600\n",
            "\n",
            "\n",
            "Epoch 1/24\n",
            "----------\n",
            "train Loss: 0.5260 Acc: 0.7800\n",
            "val Loss: 0.2427 Acc: 0.9200\n",
            "\n",
            "\n",
            "Epoch 2/24\n",
            "----------\n",
            "train Loss: 0.6198 Acc: 0.7950\n",
            "val Loss: 0.4674 Acc: 0.8300\n",
            "\n",
            "\n",
            "Epoch 3/24\n",
            "----------\n",
            "train Loss: 0.5608 Acc: 0.7700\n",
            "val Loss: 0.2431 Acc: 0.9100\n",
            "\n",
            "\n",
            "Epoch 4/24\n",
            "----------\n",
            "train Loss: 0.4552 Acc: 0.8350\n",
            "val Loss: 0.3337 Acc: 0.8700\n",
            "\n",
            "\n",
            "Epoch 5/24\n",
            "----------\n",
            "train Loss: 0.5513 Acc: 0.8025\n",
            "val Loss: 0.2492 Acc: 0.9000\n",
            "\n",
            "\n",
            "Epoch 6/24\n",
            "----------\n",
            "train Loss: 0.3678 Acc: 0.8475\n",
            "val Loss: 0.2008 Acc: 0.9300\n",
            "\n",
            "\n",
            "Epoch 7/24\n",
            "----------\n",
            "train Loss: 0.3100 Acc: 0.8700\n",
            "val Loss: 0.1987 Acc: 0.9500\n",
            "\n",
            "\n",
            "Epoch 8/24\n",
            "----------\n",
            "train Loss: 0.2350 Acc: 0.9125\n",
            "val Loss: 0.1629 Acc: 0.9600\n",
            "\n",
            "\n",
            "Epoch 9/24\n",
            "----------\n",
            "train Loss: 0.2958 Acc: 0.8850\n",
            "val Loss: 0.1830 Acc: 0.9300\n",
            "\n",
            "\n",
            "Epoch 10/24\n",
            "----------\n",
            "train Loss: 0.2802 Acc: 0.8850\n",
            "val Loss: 0.1472 Acc: 0.9700\n",
            "\n",
            "\n",
            "Epoch 11/24\n",
            "----------\n",
            "train Loss: 0.2110 Acc: 0.9250\n",
            "val Loss: 0.1549 Acc: 0.9500\n",
            "\n",
            "\n",
            "Epoch 12/24\n",
            "----------\n",
            "train Loss: 0.2031 Acc: 0.9250\n",
            "val Loss: 0.1262 Acc: 0.9500\n",
            "\n",
            "\n",
            "Epoch 13/24\n",
            "----------\n",
            "train Loss: 0.1677 Acc: 0.9400\n",
            "val Loss: 0.1297 Acc: 0.9600\n",
            "\n",
            "\n",
            "Epoch 14/24\n",
            "----------\n",
            "train Loss: 0.2341 Acc: 0.9050\n",
            "val Loss: 0.1194 Acc: 0.9700\n",
            "\n",
            "\n",
            "Epoch 15/24\n",
            "----------\n",
            "train Loss: 0.1680 Acc: 0.9425\n",
            "val Loss: 0.1259 Acc: 0.9400\n",
            "\n",
            "\n",
            "Epoch 16/24\n",
            "----------\n",
            "train Loss: 0.1831 Acc: 0.9300\n",
            "val Loss: 0.1069 Acc: 0.9500\n",
            "\n",
            "\n",
            "Epoch 17/24\n",
            "----------\n",
            "train Loss: 0.1655 Acc: 0.9400\n",
            "val Loss: 0.1147 Acc: 0.9500\n",
            "\n",
            "\n",
            "Epoch 18/24\n",
            "----------\n",
            "train Loss: 0.2431 Acc: 0.9075\n",
            "val Loss: 0.1348 Acc: 0.9600\n",
            "\n",
            "\n",
            "Epoch 19/24\n",
            "----------\n",
            "train Loss: 0.1991 Acc: 0.9350\n",
            "val Loss: 0.1654 Acc: 0.9500\n",
            "\n",
            "\n",
            "Epoch 20/24\n",
            "----------\n",
            "train Loss: 0.1394 Acc: 0.9425\n",
            "val Loss: 0.1238 Acc: 0.9700\n",
            "\n",
            "\n",
            "Epoch 21/24\n",
            "----------\n",
            "train Loss: 0.1822 Acc: 0.9175\n",
            "val Loss: 0.1513 Acc: 0.9600\n",
            "\n",
            "\n",
            "Epoch 22/24\n",
            "----------\n",
            "train Loss: 0.1499 Acc: 0.9450\n",
            "val Loss: 0.1269 Acc: 0.9700\n",
            "\n",
            "\n",
            "Epoch 23/24\n",
            "----------\n",
            "train Loss: 0.1695 Acc: 0.9375\n",
            "val Loss: 0.1168 Acc: 0.9500\n",
            "\n",
            "\n",
            "Epoch 24/24\n",
            "----------\n",
            "train Loss: 0.2128 Acc: 0.9275\n",
            "val Loss: 0.1227 Acc: 0.9400\n",
            "\n",
            "\n",
            "Training complete in 1m 17s\n",
            "Best val Acc: 0.970000\n"
          ],
          "name": "stdout"
        }
      ]
    },
    {
      "cell_type": "markdown",
      "metadata": {
        "id": "kfFywg_V-2NJ"
      },
      "source": [
        "Finetunign the model\n",
        "Load a pretrained model and reset final fully connected layer.\n",
        "\n",
        "This version only optimizes on the last layer"
      ]
    },
    {
      "cell_type": "markdown",
      "metadata": {
        "id": "TFucY0--EIjQ"
      },
      "source": [
        
        "Here, we need to freeze all the network except the final layer. We need to set requires_grad == False to freeze the parameters so that the gradients are not computed in backward()."
      ]
    },
    {
      "cell_type": "code",
      "metadata": {
        "id": "u0wYzD70HRaS"
      },
      "source": [
        "model_ll = torchvision.models.resnet18(pretrained=True)\n",
        "for param in model_ll.parameters():\n",
        "    param.requires_grad = False\n",
        "\n",
        "# Parameters of newly constructed modules have requires_grad=True by default\n",
        "num_ftrs = model_ll.fc.in_features\n",
        "model_ll.fc = nn.Linear(num_ftrs, len(class_names))\n",
        "\n",
        "model_ll = model_ll.to(device)\n",
        "\n",
        "loss_fn = nn.CrossEntropyLoss()\n",
        "\n",
        "# only parameters of final layer are being optimized\n",
        "optimizer = optim.SGD(model_ll.fc.parameters(), lr=0.001, momentum=0.9)\n",
        "\n",
        "scheduler = lr_scheduler.StepLR(optimizer, step_size=7, gamma=0.1)"
      ],
      "execution_count": null,
      "outputs": []
    },
    {
      "cell_type": "code",
      "metadata": {
        "colab": {
          "base_uri": "https://localhost:8080/"
        },
        "id": "j80ZkT07EJKN",
        "outputId": "534649b3-fc99-4b86-ebeb-872b0b5f0c00"
      },
      "source": [
        "model_all_params_opt = train_model(model = model_ll, loss_fn = loss_fn, optimizer = optimizer, scheduler = scheduler, num_epochs=25)\n"
      ],
      "execution_count": null,
      "outputs": [
        {
          "output_type": "stream",
          "text": [
            "Epoch 0/24\n",
            "----------\n",
            "train Loss: 0.5786 Acc: 0.6975\n",
            "val Loss: 0.2529 Acc: 0.8900\n",
            "\n",
            "\n",
            "Epoch 1/24\n",
            "----------\n",
            "train Loss: 0.6184 Acc: 0.7600\n",
            "val Loss: 0.2544 Acc: 0.9000\n",
            "\n",
            "\n",
            "Epoch 2/24\n",
            "----------\n",
            "train Loss: 0.6262 Acc: 0.7400\n",
            "val Loss: 0.2077 Acc: 0.9000\n",
            "\n",
            "\n",
            "Epoch 3/24\n",
            "----------\n",
            "train Loss: 0.5006 Acc: 0.7725\n",
            "val Loss: 0.2186 Acc: 0.9200\n",
            "\n",
            "\n",
            "Epoch 4/24\n",
            "----------\n",
            "train Loss: 0.4907 Acc: 0.7925\n",
            "val Loss: 0.2075 Acc: 0.9300\n",
            "\n",
            "\n",
            "Epoch 5/24\n",
            "----------\n",
            "train Loss: 0.4746 Acc: 0.8125\n",
            "val Loss: 0.1556 Acc: 0.9300\n",
            "\n",
            "\n",
            "Epoch 6/24\n",
            "----------\n",
            "train Loss: 0.5502 Acc: 0.7800\n",
            "val Loss: 0.3973 Acc: 0.8500\n",
            "\n",
            "\n",
            "Epoch 7/24\n",
            "----------\n",
            "train Loss: 0.3724 Acc: 0.8450\n",
            "val Loss: 0.1641 Acc: 0.9300\n",
            "\n",
            "\n",
            "Epoch 8/24\n",
            "----------\n",
            "train Loss: 0.3388 Acc: 0.8525\n",
            "val Loss: 0.1330 Acc: 0.9400\n",
            "\n",
            "\n",
            "Epoch 9/24\n",
            "----------\n",
            "train Loss: 0.3394 Acc: 0.8450\n",
            "val Loss: 0.1323 Acc: 0.9500\n",
            "\n",
            "\n",
            "Epoch 10/24\n",
            "----------\n",
            "train Loss: 0.3520 Acc: 0.8575\n",
            "val Loss: 0.1271 Acc: 0.9500\n",
            "\n",
            "\n",
            "Epoch 11/24\n",
            "----------\n",
            "train Loss: 0.3029 Acc: 0.8675\n",
            "val Loss: 0.1569 Acc: 0.9500\n",
            "\n",
            "\n",
            "Epoch 12/24\n",
            "----------\n",
            "train Loss: 0.3588 Acc: 0.8300\n",
            "val Loss: 0.1477 Acc: 0.9400\n",
            "\n",
            "\n",
            "Epoch 13/24\n",
            "----------\n",
            "train Loss: 0.3903 Acc: 0.8250\n",
            "val Loss: 0.1396 Acc: 0.9500\n",
            "\n",
            "\n",
            "Epoch 14/24\n",
            "----------\n",
            "train Loss: 0.3693 Acc: 0.8325\n",
            "val Loss: 0.1574 Acc: 0.9200\n",
            "\n",
            "\n",
            "Epoch 15/24\n",
            "----------\n",
            "train Loss: 0.3838 Acc: 0.8275\n",
            "val Loss: 0.1521 Acc: 0.9400\n",
            "\n",
            "\n",
            "Epoch 16/24\n",
            "----------\n",
            "train Loss: 0.3078 Acc: 0.8650\n",
            "val Loss: 0.1496 Acc: 0.9600\n",
            "\n",
            "\n",
            "Epoch 17/24\n",
            "----------\n",
            "train Loss: 0.3438 Acc: 0.8450\n",
            "val Loss: 0.1504 Acc: 0.9600\n",
            "\n",
            "\n",
            "Epoch 18/24\n",
            "----------\n",
            "train Loss: 0.3258 Acc: 0.8700\n",
            "val Loss: 0.1851 Acc: 0.9300\n",
            "\n",
            "\n",
            "Epoch 19/24\n",
            "----------\n",
            "train Loss: 0.3565 Acc: 0.8400\n",
            "val Loss: 0.1584 Acc: 0.9500\n",
            "\n",
            "\n",
            "Epoch 20/24\n",
            "----------\n",
            "train Loss: 0.3123 Acc: 0.8700\n",
            "val Loss: 0.1423 Acc: 0.9500\n",
            "\n",
            "\n",
            "Epoch 21/24\n",
            "----------\n",
            "train Loss: 0.3477 Acc: 0.8575\n",
            "val Loss: 0.1618 Acc: 0.9500\n",
            "\n",
            "\n",
            "Epoch 22/24\n",
            "----------\n",
            "train Loss: 0.3355 Acc: 0.8600\n",
            "val Loss: 0.1470 Acc: 0.9600\n",
            "\n",
            "\n",
            "Epoch 23/24\n",
            "----------\n",
            "train Loss: 0.3766 Acc: 0.8325\n",
            "val Loss: 0.1371 Acc: 0.9600\n",
            "\n",
            "\n",
            "Epoch 24/24\n",
            "----------\n",
            "train Loss: 0.3614 Acc: 0.8250\n",
            "val Loss: 0.1673 Acc: 0.9400\n",
            "\n",
            "\n",
            "Training complete in 0m 39s\n",
            "Best val Acc: 0.960000\n"
          ],
          "name": "stdout"
        }
      ]
    },
    {
      "cell_type": "code",
      "metadata": {
        "id": "C3m9V2DTF8tE"
      },
      "source": [
        ""
      ],
      "execution_count": null,
      "outputs": []
    }
  ]
}
